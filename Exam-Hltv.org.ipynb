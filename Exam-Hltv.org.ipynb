{
 "cells": [
  {
   "cell_type": "markdown",
   "metadata": {},
   "source": [
    "# Python exam - Hltv.org scraper and CS:GO competition predictor"
   ]
  },
  {
   "cell_type": "markdown",
   "metadata": {},
   "source": [
    "## Scraping the Hltv.org webpage"
   ]
  },
  {
   "cell_type": "code",
   "execution_count": 1,
   "metadata": {},
   "outputs": [],
   "source": [
    "import selenium\n",
    "from selenium import webdriver\n",
    "from selenium.webdriver.firefox.options import Options\n",
    "import bs4\n",
    "\n",
    "profile = webdriver.FirefoxProfile()\n",
    "profile.set_preference(\"general.useragent.override\", \"Mozilla/5.0 (X11; Ubuntu; Linux x86_64; rv:81.0) Gecko/20100101 Firefox/81.0\")\n",
    "options = Options()\n",
    "options.headless = True\n",
    "browser = webdriver.Firefox(options=options)"
   ]
  },
  {
   "cell_type": "code",
   "execution_count": 2,
   "metadata": {},
   "outputs": [],
   "source": [
    "base_url = \"https://www.hltv.org\"\n",
    "browser.get(base_url)\n",
    "browser.implicitly_wait(2)\n",
    "#Enter world ranking page\n",
    "button = browser.find_element_by_link_text('RANKING')\n",
    "button.click()\n"
   ]
  },
  {
   "cell_type": "code",
   "execution_count": 3,
   "metadata": {},
   "outputs": [],
   "source": [
    "soup = bs4.BeautifulSoup(browser.page_source, 'html.parser')"
   ]
  },
  {
   "cell_type": "code",
   "execution_count": 4,
   "metadata": {},
   "outputs": [
    {
     "data": {
      "text/html": [
       "<style>\n",
       ".output {\n",
       "    align-items: center;\n",
       "}\n",
       "</style>"
      ],
      "text/plain": [
       "<IPython.core.display.HTML object>"
      ]
     },
     "execution_count": 4,
     "metadata": {},
     "output_type": "execute_result"
    }
   ],
   "source": [
    "from IPython.display import display, HTML\n",
    "\n",
    "CSS = \"\"\"\n",
    ".output {\n",
    "    align-items: center;\n",
    "}\n",
    "\"\"\"\n",
    "\n",
    "HTML('<style>{}</style>'.format(CSS))"
   ]
  },
  {
   "cell_type": "code",
   "execution_count": 5,
   "metadata": {},
   "outputs": [
    {
     "data": {
      "application/vnd.jupyter.widget-view+json": {
       "model_id": "dbc315c256d448eab9a82b07b9a5dfa1",
       "version_major": 2,
       "version_minor": 0
      },
      "text/plain": [
       "Dropdown(options=(('#1 - Natus Vincere', '/team/4608/natus-vincere'), ('#2 - G2', '/team/5995/g2'), ('#3 - Gam…"
      ]
     },
     "metadata": {},
     "output_type": "display_data"
    },
    {
     "data": {
      "application/vnd.jupyter.widget-view+json": {
       "model_id": "768aa415be2d4d33901fc2a72a2e768b",
       "version_major": 2,
       "version_minor": 0
      },
      "text/plain": [
       "Output(layout=Layout(border='1px solid black'))"
      ]
     },
     "metadata": {},
     "output_type": "display_data"
    }
   ],
   "source": [
    "import ipywidgets as widgets\n",
    "from IPython.display import display\n",
    "from IPython.display import HTML\n",
    "import webget\n",
    "from PIL import Image\n",
    "from PIL import GifImagePlugin\n",
    "import pandas as pd\n",
    "\n",
    "img = 'https://i.pinimg.com/originals/d7/34/49/d73449313ecedb997822efecd1ee3eac.gif'\n",
    "pd.set_option('display.max_colwidth', None)\n",
    "\n",
    "\n",
    "def dropdown_teams_eventhandler(change):\n",
    "    output.clear_output()\n",
    "    with output:\n",
    "        display(HTML('<img src=\"https://i.pinimg.com/originals/d7/34/49/d73449313ecedb997822efecd1ee3eac.gif\">'))\n",
    "        players = get_team(change.new)\n",
    "        output.clear_output()\n",
    "        players_df = pd.DataFrame(players, columns=['Player', 'Image_url', 'Link'])\n",
    "#         display(players_df)\n",
    "        format_dict = {}\n",
    "#         print(players_df.axes)\n",
    "        format_dict['Image_url'] = path_to_image_html\n",
    "#         for url in players_df['Image_url']:\n",
    "#             format_dict[url] = path_to_image_html\n",
    "#         players_df.to_html(escape=False, formatters=dict(Image_url=path_to_image_html))\n",
    "#         print(players_df.index)\n",
    "#         players_df.iloc[0].replace(lambda x: path_to_image_html(x))\n",
    "#         print(type(players_df))\n",
    "        display(HTML(players_df.to_html(escape=False, formatters=format_dict, index=False, header=False)))\n",
    "\n",
    "def path_to_image_html(path):\n",
    "    return '<img src=\"'+ path + '\" width=\"60\" >'\n",
    "            \n",
    "def get_team(team_url):\n",
    "    players = []\n",
    "    browser.get(base_url + team_url)\n",
    "    source = browser.page_source\n",
    "    soup = bs4.BeautifulSoup(source, 'html.parser')\n",
    "    player_elements = soup.find_all('a', {'class' : 'col-custom'})\n",
    "    for e in player_elements:\n",
    "        player_link = e['href']\n",
    "        player_img_url = e.find_all('img')[0]['src']\n",
    "        player_nick = e.find('span', {'class' : 'text-ellipsis bold'}).text\n",
    "        player = (player_nick, player_img_url, player_link)\n",
    "        players.append(player)\n",
    "    \n",
    "    return players\n",
    "\n",
    "teams = []\n",
    "\n",
    "team_elements = soup.find_all('div', {'class': 'ranked-team standard-box'})\n",
    "for e in team_elements:\n",
    "    team_rank = e.select('div>span:nth-child(1)')[0].text\n",
    "    team_name = e.select('div>span:nth-child(1)')[1].text\n",
    "    team_link = e.find_all('a', {'class': 'moreLink'})[0]['href']\n",
    "    teams.append((team_rank + \" - \" + team_name, team_link))\n",
    "    \n",
    "output = widgets.Output(layout={'border': '1px solid black'})\n",
    "\n",
    "        \n",
    "dropdown_teams = widgets.Dropdown(options = teams)\n",
    "dropdown_teams.observe(dropdown_teams_eventhandler, names='value')  \n",
    "  \n",
    "    \n",
    "display(dropdown_teams)\n",
    "output\n",
    "\n"
   ]
  },
  {
   "cell_type": "code",
   "execution_count": 6,
   "metadata": {},
   "outputs": [],
   "source": [
    "# import pandas as pd\n",
    "# from IPython.core.display import display,HTML\n",
    "\n",
    "# df = pd.DataFrame([['A231', 'Book', 5, 3, 150], \n",
    "#                    ['M441', 'Magic Staff', 10, 7, 200]],\n",
    "#                    columns = ['Code', 'Name', 'Price', 'Net', 'Sales'])\n",
    "\n",
    "# # your images\n",
    "# images1 = ['https://img-cdn.hltv.org/playerbodyshot/BVGgD5hJMifm1iVGXFwbws.png?ixlib=java-2.1.0&w=400&s=2963f9e90b71342b6b00f401c7c4acff',\n",
    "#           'https://img-cdn.hltv.org/playerbodyshot/vgRnVqGhGuPULEh6zsqa8_.png?ixlib=java-2.1.0&w=400&s=fcfcbe389a5b6f388468c9db9c4431ca'] \n",
    "\n",
    "\n",
    "# images2 = ['https://static3.srcdn.com/wordpress/wp-content/uploads/2020/07/Quidditch.jpg?q=50&fit=crop&w=960&h=500&dpr=1.5',\n",
    "#            'https://specials-images.forbesimg.com/imageserve/5e160edc9318b800069388e8/960x0.jpg?fit=scale']\n",
    "\n",
    "# df['imageUrls'] = images1\n",
    "# df['otherImageUrls'] = images2\n",
    "\n",
    "\n",
    "# # convert your links to html tags \n",
    "# def path_to_image_html(path):\n",
    "#     return '<img src=\"'+ path + '\" width=\"60\" >'\n",
    "\n",
    "# pd.set_option('display.max_colwidth', None)\n",
    "\n",
    "# image_cols = ['imageUrls', 'otherImageUrls']  #<- define which columns will be used to convert to html\n",
    "\n",
    "# # Create the dictionariy to be passed as formatters\n",
    "# format_dict = {}\n",
    "# for image_col in image_cols:\n",
    "#     print(image_col)\n",
    "#     format_dict[image_col] = path_to_image_html\n",
    "\n",
    "\n",
    "# display(HTML(df.to_html(escape=False ,formatters=format_dict)))"
   ]
  },
  {
   "cell_type": "code",
   "execution_count": null,
   "metadata": {},
   "outputs": [],
   "source": []
  }
 ],
 "metadata": {
  "kernelspec": {
   "display_name": "Python 3",
   "language": "python",
   "name": "python3"
  },
  "language_info": {
   "codemirror_mode": {
    "name": "ipython",
    "version": 3
   },
   "file_extension": ".py",
   "mimetype": "text/x-python",
   "name": "python",
   "nbconvert_exporter": "python",
   "pygments_lexer": "ipython3",
   "version": "3.7.6"
  }
 },
 "nbformat": 4,
 "nbformat_minor": 4
}
