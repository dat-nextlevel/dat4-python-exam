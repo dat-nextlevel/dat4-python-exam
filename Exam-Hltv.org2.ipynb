{
 "cells": [
  {
   "cell_type": "markdown",
   "metadata": {},
   "source": [
    "# Python exam - Hltv.org scraper and CS:GO competition predictor"
   ]
  },
  {
   "cell_type": "markdown",
   "metadata": {},
   "source": [
    "## Scraping the Hltv.org webpage"
   ]
  },
  {
   "cell_type": "code",
   "execution_count": 1,
   "metadata": {},
   "outputs": [],
   "source": [
    "import selenium\n",
    "from selenium import webdriver\n",
    "from selenium.webdriver.common.by import By\n",
    "from selenium.webdriver.firefox.options import Options\n",
    "import bs4\n",
    "\n",
    "#Setup webdriver\n",
    "profile = webdriver.FirefoxProfile()\n",
    "profile.set_preference(\"general.useragent.override\", \"Mozilla/5.0 (X11; Ubuntu; Linux x86_64; rv:81.0) Gecko/20100101 Firefox/81.0\")\n",
    "options = Options()\n",
    "options.headless = True\n",
    "browser = webdriver.Firefox(options=options)"
   ]
  },
  {
   "cell_type": "code",
   "execution_count": 2,
   "metadata": {},
   "outputs": [
    {
     "name": "stdout",
     "output_type": "stream",
     "text": [
      "Cookie prompt found\n",
      "Cookie prompt dismissed\n"
     ]
    }
   ],
   "source": [
    "from selenium.webdriver.support.ui import WebDriverWait\n",
    "from selenium.webdriver.common.by import By\n",
    "from selenium.webdriver.support import expected_conditions as EC\n",
    "\n",
    "#Open webpage\n",
    "base_url = \"https://www.hltv.org\"\n",
    "browser.get(base_url)\n",
    "browser.implicitly_wait(2)\n",
    "\n",
    "#Dismiss cookie prompt\n",
    "try:\n",
    "    wait = WebDriverWait(browser, 100)\n",
    "    element = wait.until(EC.element_to_be_clickable((By.XPATH, '//*[@id=\"CybotCookiebotDialogBodyLevelButtonLevelOptinAllowallSelection\"]')))\n",
    "\n",
    "    if browser.find_element_by_xpath('//*[@id=\"CybotCookiebotDialogBodyContent\"]').is_displayed():\n",
    "        print(\"Cookie prompt found\")\n",
    "        \n",
    "        cookie_preferences = browser.find_element_by_xpath('//*[@id=\"CybotCookiebotDialogBodyLevelButtonPreferences\"]')\n",
    "        if cookie_preferences.is_selected():\n",
    "            cookie_preferences.click()\n",
    "            \n",
    "        cookie_statistics = browser.find_element_by_xpath('//*[@id=\"CybotCookiebotDialogBodyLevelButtonStatistics\"]')\n",
    "        if cookie_statistics.is_selected():\n",
    "            cookie_statistics.click()\n",
    "            \n",
    "        cookie_marketing = browser.find_element_by_xpath('//*[@id=\"CybotCookiebotDialogBodyLevelButtonMarketing\"]')\n",
    "        if cookie_marketing.is_selected():\n",
    "            cookie_marketing.click()\n",
    "\n",
    "    element.click()\n",
    "    print(\"Cookie prompt dismissed\")\n",
    "except:\n",
    "    print(\"Cookies not found\")"
   ]
  },
  {
   "cell_type": "code",
   "execution_count": 3,
   "metadata": {},
   "outputs": [],
   "source": [
    "# #Enter world ranking page\n",
    "button = browser.find_element_by_link_text('RANKING')\n",
    "button.click()\n",
    "\n",
    "soup = bs4.BeautifulSoup(browser.page_source, 'html.parser')"
   ]
  },
  {
   "cell_type": "code",
   "execution_count": 4,
   "metadata": {},
   "outputs": [
    {
     "data": {
      "text/html": [
       "<style>\n",
       ".output {\n",
       "    align-items: center;\n",
       "}\n",
       "</style>"
      ],
      "text/plain": [
       "<IPython.core.display.HTML object>"
      ]
     },
     "execution_count": 4,
     "metadata": {},
     "output_type": "execute_result"
    }
   ],
   "source": [
    "from IPython.display import display, HTML\n",
    "\n",
    "CSS = \"\"\"\n",
    ".output {\n",
    "    align-items: center;\n",
    "}\n",
    "\"\"\"\n",
    "\n",
    "HTML('<style>{}</style>'.format(CSS))"
   ]
  },
  {
   "cell_type": "code",
   "execution_count": 14,
   "metadata": {},
   "outputs": [
    {
     "data": {
      "application/vnd.jupyter.widget-view+json": {
       "model_id": "6dba3c6412164a1990717f491fac85bb",
       "version_major": 2,
       "version_minor": 0
      },
      "text/plain": [
       "Dropdown(options=(('#1 - Natus Vincere', '/team/4608/natus-vincere'), ('#2 - Vitality', '/team/9565/vitality')…"
      ]
     },
     "metadata": {},
     "output_type": "display_data"
    },
    {
     "data": {
      "application/vnd.jupyter.widget-view+json": {
       "model_id": "dd1670ab4d4e46499e5ea6127ad180e0",
       "version_major": 2,
       "version_minor": 0
      },
      "text/plain": [
       "Output(layout=Layout(border='1px solid black'))"
      ]
     },
     "metadata": {},
     "output_type": "display_data"
    }
   ],
   "source": [
    "import ipywidgets as widgets\n",
    "import pandas as pd\n",
    "\n",
    "#Set loading image\n",
    "img = 'https://i.pinimg.com/originals/d7/34/49/d73449313ecedb997822efecd1ee3eac.gif'\n",
    "pd.set_option('display.max_colwidth', None)\n",
    "\n",
    "\n",
    "#Displaying teams from top 30\n",
    "def path_to_image_html(path):\n",
    "    return '<img src=\"'+ path + '\" width=\"110\" >'\n",
    "            \n",
    "def get_team(team_url):\n",
    "    players = []\n",
    "    browser.get(base_url + team_url)\n",
    "    source = browser.page_source\n",
    "    soup = bs4.BeautifulSoup(source, 'html.parser')\n",
    "    players_table = soup.find('table', {'class' : 'table-container players-table'}).find_all('tr')\n",
    "    for e in players_table[1:]:\n",
    "        player_nick = e.find('div', {'class' : 'text-ellipsis'}).text.strip()\n",
    "        player_img_url = e.find_all('img')[0]['src']\n",
    "        player_status = e.find('div', {'class' : 'player-status'}).text\n",
    "        player_stats = e.find_all('div', {'class' : 'players-cell center-cell opacity-cell'})\n",
    "        player_tot = player_stats[0].text\n",
    "        player_mp = player_stats[1].text\n",
    "        player_rating = e.find('div', {'class' : 'rating-cell'}).text\n",
    "        \n",
    "        player = (player_img_url, player_nick, player_status, player_tot, player_mp, player_rating)\n",
    "        players.append(player)\n",
    "\n",
    "    return players\n",
    "\n",
    "# def tryconvert(value, default, *types):\n",
    "#     for t in types:\n",
    "#         try:\n",
    "#             return t(value)\n",
    "#         except (ValueError, TypeError):\n",
    "#             continue\n",
    "#     return default\n",
    "\n",
    "# def color_negative_red(val):\n",
    "#     color = 'red' if tryconvert(val,0,float) < 1.05 else 'green'\n",
    "#     return 'color: %s' % color\n",
    "\n",
    "# styles = [\n",
    "#     dict(selector='th:first-child', props=[('text-align', 'left')]),\n",
    "#     dict(selector='th', props=[('color', 'blue')])\n",
    "# ] \n",
    "\n",
    "def dropdown_teams_eventhandler(change):\n",
    "    output.clear_output()\n",
    "    with output:\n",
    "        display(HTML('<img src=\"https://i.pinimg.com/originals/d7/34/49/d73449313ecedb997822efecd1ee3eac.gif\">'))\n",
    "        players = get_team(change.new)\n",
    "        output.clear_output()\n",
    "        players_df = pd.DataFrame(players, columns=['Image', 'Nickname', 'Status', 'Time on team', 'Maps played', 'Rating'])\n",
    "        format_dict = {}\n",
    "        format_dict['Image'] = path_to_image_html\n",
    "#         players_df = players_df.style.set_table_styles(styles)\n",
    "#         players_df = players_df.style.applymap(color_negative_red, subset=pd.IndexSlice[:, ['Rating']]).hide_index()\n",
    "        display(HTML(players_df.to_html(escape=False, formatters=format_dict, index=False)))   \n",
    "        \n",
    "teams = []\n",
    "\n",
    "team_elements = soup.find_all('div', {'class': 'ranked-team standard-box'})\n",
    "for e in team_elements:\n",
    "    team_rank = e.select('div>span:nth-child(1)')[0].text\n",
    "    team_name = e.select('div>span:nth-child(1)')[1].text\n",
    "    team_link = e.find_all('a', {'class': 'moreLink'})[0]['href']\n",
    "    teams.append((team_rank + \" - \" + team_name, team_link))\n",
    "    \n",
    "output = widgets.Output(layout={'border': '1px solid black'})\n",
    "\n",
    "        \n",
    "dropdown_teams = widgets.Dropdown(options = teams)\n",
    "dropdown_teams.observe(dropdown_teams_eventhandler, names='value')  \n",
    "  \n",
    "get_team(\"/team/11419/ecstatic\")    \n",
    "display(dropdown_teams)\n",
    "output"
   ]
  },
  {
   "cell_type": "code",
   "execution_count": null,
   "metadata": {},
   "outputs": [],
   "source": []
  },
  {
   "cell_type": "code",
   "execution_count": null,
   "metadata": {},
   "outputs": [],
   "source": []
  }
 ],
 "metadata": {
  "kernelspec": {
   "display_name": "Python 3",
   "language": "python",
   "name": "python3"
  },
  "language_info": {
   "codemirror_mode": {
    "name": "ipython",
    "version": 3
   },
   "file_extension": ".py",
   "mimetype": "text/x-python",
   "name": "python",
   "nbconvert_exporter": "python",
   "pygments_lexer": "ipython3",
   "version": "3.7.6"
  }
 },
 "nbformat": 4,
 "nbformat_minor": 4
}
