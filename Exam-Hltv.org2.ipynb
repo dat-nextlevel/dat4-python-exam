{
 "cells": [
  {
   "cell_type": "markdown",
   "metadata": {},
   "source": [
    "# Python exam - Hltv.org scraper and CS:GO competition predictor"
   ]
  },
  {
   "cell_type": "markdown",
   "metadata": {},
   "source": [
    "## Scraping the Hltv.org webpage"
   ]
  },
  {
   "cell_type": "code",
   "execution_count": 9,
   "metadata": {},
   "outputs": [],
   "source": [
    "import selenium\n",
    "from selenium import webdriver\n",
    "from selenium.webdriver.common.by import By\n",
    "from selenium.webdriver.firefox.options import Options\n",
    "import bs4\n",
    "\n",
    "#Setup webdriver\n",
    "profile = webdriver.FirefoxProfile()\n",
    "profile.set_preference(\"general.useragent.override\", \"Mozilla/5.0 (X11; Ubuntu; Linux x86_64; rv:81.0) Gecko/20100101 Firefox/81.0\")\n",
    "options = Options()\n",
    "options.headless = True\n",
    "t_browser = webdriver.Firefox(options=options)"
   ]
  },
  {
   "cell_type": "markdown",
   "metadata": {},
   "source": [
    "## Team viewer"
   ]
  },
  {
   "cell_type": "code",
   "execution_count": 10,
   "metadata": {},
   "outputs": [
    {
     "name": "stdout",
     "output_type": "stream",
     "text": [
      "Cookie prompt found\n",
      "Cookie prompt dismissed\n"
     ]
    }
   ],
   "source": [
    "from selenium.webdriver.support.ui import WebDriverWait\n",
    "from selenium.webdriver.common.by import By\n",
    "from selenium.webdriver.support import expected_conditions as EC\n",
    "\n",
    "#Open webpage\n",
    "base_url = \"https://www.hltv.org\"\n",
    "t_browser.get(base_url)\n",
    "t_browser.implicitly_wait(2)\n",
    "\n",
    "#Dismiss cookie prompt\n",
    "try:\n",
    "    wait = WebDriverWait(t_browser, 100)\n",
    "    element = wait.until(EC.element_to_be_clickable((By.XPATH, '//*[@id=\"CybotCookiebotDialogBodyLevelButtonLevelOptinAllowallSelection\"]')))\n",
    "\n",
    "    if t_browser.find_element_by_xpath('//*[@id=\"CybotCookiebotDialogBodyContent\"]').is_displayed():\n",
    "        print(\"Cookie prompt found\")\n",
    "        \n",
    "        cookie_preferences = t_browser.find_element_by_xpath('//*[@id=\"CybotCookiebotDialogBodyLevelButtonPreferences\"]')\n",
    "        if cookie_preferences.is_selected():\n",
    "            cookie_preferences.click()\n",
    "            \n",
    "        cookie_statistics = t_browser.find_element_by_xpath('//*[@id=\"CybotCookiebotDialogBodyLevelButtonStatistics\"]')\n",
    "        if cookie_statistics.is_selected():\n",
    "            cookie_statistics.click()\n",
    "            \n",
    "        cookie_marketing = t_browser.find_element_by_xpath('//*[@id=\"CybotCookiebotDialogBodyLevelButtonMarketing\"]')\n",
    "        if cookie_marketing.is_selected():\n",
    "            cookie_marketing.click()\n",
    "\n",
    "    element.click()\n",
    "    print(\"Cookie prompt dismissed\")\n",
    "except:\n",
    "    print(\"Cookies not found\")"
   ]
  },
  {
   "cell_type": "code",
   "execution_count": 11,
   "metadata": {},
   "outputs": [],
   "source": [
    "# #Enter world ranking page\n",
    "button = t_browser.find_element_by_link_text('RANKING')\n",
    "button.click()\n",
    "\n",
    "soup = bs4.BeautifulSoup(t_browser.page_source, 'html.parser')"
   ]
  },
  {
   "cell_type": "code",
   "execution_count": 12,
   "metadata": {},
   "outputs": [
    {
     "data": {
      "text/html": [
       "<style>\n",
       ".output {\n",
       "    align-items: center;\n",
       "}\n",
       "</style>"
      ],
      "text/plain": [
       "<IPython.core.display.HTML object>"
      ]
     },
     "execution_count": 12,
     "metadata": {},
     "output_type": "execute_result"
    }
   ],
   "source": [
    "from IPython.display import display, HTML\n",
    "\n",
    "CSS = \"\"\"\n",
    ".output {\n",
    "    align-items: center;\n",
    "}\n",
    "\"\"\"\n",
    "\n",
    "HTML('<style>{}</style>'.format(CSS))"
   ]
  },
  {
   "cell_type": "code",
   "execution_count": 13,
   "metadata": {},
   "outputs": [
    {
     "data": {
      "application/vnd.jupyter.widget-view+json": {
       "model_id": "92ced1bc79d14bb195096ea3315551ab",
       "version_major": 2,
       "version_minor": 0
      },
      "text/plain": [
       "Dropdown(options=(('#1 - Natus Vincere', '/team/4608/natus-vincere'), ('#2 - Vitality', '/team/9565/vitality')…"
      ]
     },
     "metadata": {},
     "output_type": "display_data"
    },
    {
     "data": {
      "application/vnd.jupyter.widget-view+json": {
       "model_id": "32f086bb6c424126b0e1fc7891380ebb",
       "version_major": 2,
       "version_minor": 0
      },
      "text/plain": [
       "Output(layout=Layout(border='1px solid black'))"
      ]
     },
     "metadata": {},
     "output_type": "display_data"
    }
   ],
   "source": [
    "import ipywidgets as widgets\n",
    "import pandas as pd\n",
    "\n",
    "#Set loading image\n",
    "img = 'https://i.pinimg.com/originals/d7/34/49/d73449313ecedb997822efecd1ee3eac.gif'\n",
    "pd.set_option('display.max_colwidth', None)\n",
    "\n",
    "\n",
    "#Displaying teams from top 30\n",
    "def path_to_image_html(path):\n",
    "    return '<img src=\"'+ path + '\" width=\"110\" >'\n",
    "            \n",
    "def get_players_for_team(team_url):\n",
    "    players = []\n",
    "    t_browser.get(base_url + team_url)\n",
    "    source = t_browser.page_source\n",
    "    soup = bs4.BeautifulSoup(source, 'html.parser')\n",
    "    players_table = soup.find('table', {'class' : 'table-container players-table'}).find_all('tr')\n",
    "    for e in players_table[1:]:\n",
    "        player_nick = e.find('div', {'class' : 'text-ellipsis'}).text.strip()\n",
    "        player_img_url = e.find_all('img')[0]['src']\n",
    "        player_status = e.find('div', {'class' : 'player-status'}).text\n",
    "        player_stats = e.find_all('div', {'class' : 'players-cell center-cell opacity-cell'})\n",
    "        player_tot = player_stats[0].text\n",
    "        player_mp = player_stats[1].text\n",
    "        player_rating = e.find('div', {'class' : 'rating-cell'}).text\n",
    "        \n",
    "        player = (player_img_url, player_nick, player_status, player_tot, player_mp, player_rating)\n",
    "        players.append(player)\n",
    "\n",
    "    return players\n",
    "\n",
    "# def tryconvert(value, default, *types):\n",
    "#     for t in types:\n",
    "#         try:\n",
    "#             return t(value)\n",
    "#         except (ValueError, TypeError):\n",
    "#             continue\n",
    "#     return default\n",
    "\n",
    "# def color_negative_red(val):\n",
    "#     color = 'red' if tryconvert(val,0,float) < 1.05 else 'green'\n",
    "#     return 'color: %s' % color\n",
    "\n",
    "# styles = [\n",
    "#     dict(selector='th:first-child', props=[('text-align', 'left')]),\n",
    "#     dict(selector='th', props=[('color', 'blue')])\n",
    "# ] \n",
    "\n",
    "def dropdown_teams_eventhandler(change):\n",
    "    output.clear_output()\n",
    "    with output:\n",
    "        display(HTML('<img src=\"https://i.pinimg.com/originals/d7/34/49/d73449313ecedb997822efecd1ee3eac.gif\">'))\n",
    "        players = get_players_for_team(change.new)\n",
    "        output.clear_output()\n",
    "        players_df = pd.DataFrame(players, columns=['Image', 'Nickname', 'Status', 'Time on team', 'Maps played', 'Rating'])\n",
    "        format_dict = {}\n",
    "        format_dict['Image'] = path_to_image_html\n",
    "#         players_df = players_df.style.set_table_styles(styles)\n",
    "#         players_df = players_df.style.applymap(color_negative_red, subset=pd.IndexSlice[:, ['Rating']]).hide_index()\n",
    "        display(HTML(players_df.to_html(escape=False, formatters=format_dict, index=False)))   \n",
    "        \n",
    "teams = []\n",
    "\n",
    "team_elements = soup.find_all('div', {'class': 'ranked-team standard-box'})\n",
    "for e in team_elements:\n",
    "    team_rank = e.select('div>span:nth-child(1)')[0].text\n",
    "    team_name = e.select('div>span:nth-child(1)')[1].text\n",
    "    team_link = e.find_all('a', {'class': 'moreLink'})[0]['href']\n",
    "    teams.append((team_rank + \" - \" + team_name, team_link))\n",
    "    \n",
    "output = widgets.Output(layout={'border': '1px solid black'})\n",
    "\n",
    "        \n",
    "dropdown_teams = widgets.Dropdown(options = teams)\n",
    "dropdown_teams.observe(dropdown_teams_eventhandler, names='value')  \n",
    "     \n",
    "display(dropdown_teams)\n",
    "output"
   ]
  },
  {
   "cell_type": "markdown",
   "metadata": {},
   "source": [
    "## Tournament predictor"
   ]
  },
  {
   "cell_type": "code",
   "execution_count": 14,
   "metadata": {},
   "outputs": [],
   "source": [
    "#Setup webdriver\n",
    "profile = webdriver.FirefoxProfile()\n",
    "profile.set_preference(\"general.useragent.override\", \"Mozilla/5.0 (X11; Ubuntu; Linux x86_64; rv:81.0) Gecko/20100101 Firefox/81.0\")\n",
    "options = Options()\n",
    "options.headless = True\n",
    "e_browser = webdriver.Firefox(options=options)\n",
    "\n",
    "e_browser.get(base_url)\n",
    "e_browser.implicitly_wait(2)\n",
    "\n",
    "button = e_browser.find_element_by_link_text('EVENTS')\n",
    "button.click()\n",
    "\n",
    "soup = bs4.BeautifulSoup(e_browser.page_source, 'html.parser')"
   ]
  },
  {
   "cell_type": "code",
   "execution_count": 15,
   "metadata": {},
   "outputs": [
    {
     "name": "stdout",
     "output_type": "stream",
     "text": [
      "23\n",
      "14\n"
     ]
    }
   ],
   "source": [
    "output = widgets.Output(layout={'border': '1px solid black'})\n",
    "\n",
    "events = []\n",
    "featured_events = soup.find('div', {'class' : 'events-holder'})\n",
    "# print(featured_events)\n",
    "event_elements = featured_events.find_all('a', {'class' : ['a-reset', 'standard-box']})\n",
    "print(len(event_elements))\n",
    "all_events = []\n",
    "for e in event_elements:\n",
    "    if 'big-event' in e['class']:\n",
    "        event_info = e.select(\"div[class=additional-info] > table > tbody > tr\")[0].select(\"td\")\n",
    "        event_href = e['href']\n",
    "        event_name = e.select(\"div[class=info] > div\")[0].text\n",
    "        event_date = event_info[0].text\n",
    "        event_price = event_info[1].text\n",
    "        event_teams = event_info[2].text\n",
    "        if event_teams == 'TBA':\n",
    "            break\n",
    "        \n",
    "    if 'small-event' in e['class']:\n",
    "        event_info = e.select(\"tr\")[0].find_all('td')\n",
    "        event_href = e['href']\n",
    "        event_name = event_info[0].select('div')[0].text\n",
    "        event_teams = event_info[1].text\n",
    "        event_prize = event_info[2].text\n",
    "        event_date_info = e.select(\"tr[class=eventDetails] > td > span\")[1].select(\"span > span >span\")\n",
    "        try:\n",
    "            event_date = event_date_info[0].text + event_date_info[1].text\n",
    "        except:\n",
    "            event_date = event_date_info[0].text\n",
    "        if event_teams == 'TBA':\n",
    "            break\n",
    "#     print(event_name, event_date, event_price, event_teams, event_href)\n",
    "    all_events.append([(event_name, event_date, event_teams, event_price), event_href])\n",
    "    \n",
    "print(len(all_events))\n",
    "\n"
   ]
  },
  {
   "cell_type": "code",
   "execution_count": 16,
   "metadata": {},
   "outputs": [
    {
     "data": {
      "application/vnd.jupyter.widget-view+json": {
       "model_id": "e38f628db4484afca1913d4d088d1952",
       "version_major": 2,
       "version_minor": 0
      },
      "text/plain": [
       "Select(layout=Layout(height='200px', justify_content='center', width='1000px'), options=(('BLAST Premier World…"
      ]
     },
     "metadata": {},
     "output_type": "display_data"
    },
    {
     "data": {
      "application/vnd.jupyter.widget-view+json": {
       "model_id": "aad2cf1fef5e416d9951cc40808c3837",
       "version_major": 2,
       "version_minor": 0
      },
      "text/plain": [
       "Output(layout=Layout(border='1px solid black'))"
      ]
     },
     "metadata": {},
     "output_type": "display_data"
    }
   ],
   "source": [
    "from ipywidgets import Layout\n",
    "from selenium.webdriver.support.ui import Select\n",
    "\n",
    "\n",
    "out = widgets.Output(layout={'border': '1px solid black'})\n",
    "\n",
    "def select_event_handler(change):\n",
    "#     print(change.new)\n",
    "    get_teams_for_event(change.new)\n",
    "    \n",
    "def get_teams_for_event(event_url):\n",
    "    with out:\n",
    "        out.clear_output()\n",
    "        teams = []\n",
    "        e_browser.get(base_url + event_url)\n",
    "        soup = bs4.BeautifulSoup(e_browser.page_source, 'html.parser')\n",
    "        teams_attending = soup.find('div', {'class' : 'teams-attending'}).select('div[class=col]')\n",
    "        if get_confirmed_teams(teams_attending):\n",
    "            team_ratings = get_team_rating(teams_attending)\n",
    "            print(\"Predicted event winner:\", predict_event_winner(team_ratings))\n",
    "            \n",
    "def predict_event_winner(team_ratings):\n",
    "    return max(team_ratings, key=team_ratings.get)\n",
    "\n",
    "def get_confirmed_teams(teams_attending):\n",
    "    confirmed_teams = 0\n",
    "    for team in teams_attending:\n",
    "        if len(team.select('div[class=team-name] > a > div[class=text]')) > 0:\n",
    "            confirmed_teams += 1\n",
    "\n",
    "    if confirmed_teams < len(teams_attending):\n",
    "        print(confirmed_teams, \"team(s) of\", len(teams_attending), \"confirmed. Prediction unavailable\")\n",
    "        return False\n",
    "    else:\n",
    "        print(\"Prediction available\")\n",
    "        return True\n",
    "        \n",
    "def get_team_rating(teams_attending):\n",
    "    team_ratings = {}\n",
    "    for idx, e in enumerate(teams_attending):\n",
    "        team_link = e.find('a')['href']\n",
    "        team_name = e.find('a').find('div').text\n",
    "        e_browser.get(base_url + \"/stats\" + team_link.replace('team', 'teams'))\n",
    "\n",
    "        select = Select(e_browser.find_element_by_xpath('/html/body/div[2]/div/div[2]/div[1]/div[2]/div[1]/div/div/div[2]/form/select'))\n",
    "        select.select_by_visible_text('Last 3 months')\n",
    "        \n",
    "        soup = bs4.BeautifulSoup(browser.page_source, 'html.parser')\n",
    "        stats = soup.find_all('div', {'class' : 'large-strong'})\n",
    "        team_stats = []\n",
    "        team_stats.append(stats[0].text)\n",
    "        team_stats.append(stats[1].text.replace(\" \", \"\").split('/'))\n",
    "        team_stats.append(stats[4].text)\n",
    "        team_stats.append(stats[5].text)\n",
    "        rating = calc_team_rating(team_stats)\n",
    "        team_ratings[team_name] = rating\n",
    "        print(idx+1, \"/\", len(teams_attending), \"stats collected\")\n",
    "    return team_ratings\n",
    "    \n",
    "def calc_team_rating(team_stats):\n",
    "    games_played = float(team_stats[0])\n",
    "    games_won = float(team_stats[1][0])\n",
    "    games_lost = float(team_stats[1][2])\n",
    "    rounds_played = float(team_stats[2])\n",
    "    KDA = float(team_stats[3])\n",
    "    rating = ((games_played * games_won / games_lost) / 1000) * rounds_played  * KDA\n",
    "    return rating\n",
    "\n",
    "events = [(\" - \".join(info[0]), info[1]) for info in all_events] \n",
    "select_event = widgets.Select(\n",
    "    options = events,\n",
    "    value = None,\n",
    "    disabled=False,\n",
    "    layout=Layout(width='1000px', height='200px', align='center', justify_content='center')\n",
    ")\n",
    "\n",
    "select_event.observe(select_event_handler, names='value')\n",
    "display(select_event)\n",
    "out\n"
   ]
  },
  {
   "cell_type": "code",
   "execution_count": null,
   "metadata": {},
   "outputs": [],
   "source": []
  }
 ],
 "metadata": {
  "kernelspec": {
   "display_name": "Python 3",
   "language": "python",
   "name": "python3"
  },
  "language_info": {
   "codemirror_mode": {
    "name": "ipython",
    "version": 3
   },
   "file_extension": ".py",
   "mimetype": "text/x-python",
   "name": "python",
   "nbconvert_exporter": "python",
   "pygments_lexer": "ipython3",
   "version": "3.7.6"
  }
 },
 "nbformat": 4,
 "nbformat_minor": 4
}
